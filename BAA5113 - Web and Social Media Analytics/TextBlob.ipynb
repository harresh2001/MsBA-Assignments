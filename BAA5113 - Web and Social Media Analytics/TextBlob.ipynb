{
  "nbformat": 4,
  "nbformat_minor": 0,
  "metadata": {
    "colab": {
      "provenance": []
    },
    "kernelspec": {
      "name": "python3",
      "display_name": "Python 3"
    },
    "language_info": {
      "name": "python"
    }
  },
  "cells": [
    {
      "cell_type": "code",
      "execution_count": 1,
      "metadata": {
        "id": "9mwam4xIa9bw"
      },
      "outputs": [],
      "source": [
        "#import libraries\n",
        "import pandas as pd\n",
        "import numpy as np\n",
        "import matplotlib.pyplot as plt\n",
        "import seaborn as sns\n",
        "\n",
        "import nltk"
      ]
    },
    {
      "cell_type": "code",
      "source": [
        "#open csv\n",
        "df=pd.read_csv('/content/BestBuy_NodeXL_tweets_data_cleaned.csv')"
      ],
      "metadata": {
        "id": "50HF2Yzoa--9"
      },
      "execution_count": 2,
      "outputs": []
    },
    {
      "cell_type": "code",
      "source": [
        "df['Text'].values[0]"
      ],
      "metadata": {
        "colab": {
          "base_uri": "https://localhost:8080/",
          "height": 35
        },
        "id": "Dh6XYSu5bQ7x",
        "outputId": "5d7217c6-9a8f-4a46-cc8f-b079b4fb7d51"
      },
      "execution_count": 3,
      "outputs": [
        {
          "output_type": "execute_result",
          "data": {
            "text/plain": [
              "'my best buy members get early access to great deals not a member sign up for a free account to shop incredible savings'"
            ],
            "application/vnd.google.colaboratory.intrinsic+json": {
              "type": "string"
            }
          },
          "metadata": {},
          "execution_count": 3
        }
      ]
    },
    {
      "cell_type": "code",
      "source": [
        "example=df['Text'].values[5]"
      ],
      "metadata": {
        "id": "l7MKq66fbRqC"
      },
      "execution_count": 4,
      "outputs": []
    },
    {
      "cell_type": "code",
      "source": [
        "nltk.download('punkt')\n",
        "tokens = nltk.word_tokenize(example)"
      ],
      "metadata": {
        "colab": {
          "base_uri": "https://localhost:8080/"
        },
        "id": "ePjhQN2vbT7Q",
        "outputId": "b20ac6fc-5762-44ee-a067-1c84eee73827"
      },
      "execution_count": 5,
      "outputs": [
        {
          "output_type": "stream",
          "name": "stderr",
          "text": [
            "[nltk_data] Downloading package punkt to /root/nltk_data...\n",
            "[nltk_data]   Unzipping tokenizers/punkt.zip.\n"
          ]
        }
      ]
    },
    {
      "cell_type": "code",
      "source": [
        "nltk.download('averaged_perceptron_tagger')\n",
        "nltk.pos_tag(tokens)"
      ],
      "metadata": {
        "colab": {
          "base_uri": "https://localhost:8080/"
        },
        "id": "cuQWmV9IbVna",
        "outputId": "40ee7804-d046-475e-df22-4bc276d55448"
      },
      "execution_count": 6,
      "outputs": [
        {
          "output_type": "stream",
          "name": "stderr",
          "text": [
            "[nltk_data] Downloading package averaged_perceptron_tagger to\n",
            "[nltk_data]     /root/nltk_data...\n",
            "[nltk_data]   Unzipping taggers/averaged_perceptron_tagger.zip.\n"
          ]
        },
        {
          "output_type": "execute_result",
          "data": {
            "text/plain": [
              "[('hey', 'JJ'),\n",
              " ('digital', 'JJ'),\n",
              " ('artists', 'NNS'),\n",
              " ('show', 'VBP'),\n",
              " ('us', 'PRP'),\n",
              " ('your', 'PRP$'),\n",
              " ('masterpiece', 'NN')]"
            ]
          },
          "metadata": {},
          "execution_count": 6
        }
      ]
    },
    {
      "cell_type": "code",
      "source": [
        "!pip install TextBlob\n",
        "from textblob import TextBlob"
      ],
      "metadata": {
        "colab": {
          "base_uri": "https://localhost:8080/"
        },
        "id": "1VsegQDFcCHZ",
        "outputId": "daa64d35-6796-4593-efbb-3c30edad4a58"
      },
      "execution_count": 7,
      "outputs": [
        {
          "output_type": "stream",
          "name": "stdout",
          "text": [
            "Requirement already satisfied: TextBlob in /usr/local/lib/python3.10/dist-packages (0.17.1)\n",
            "Requirement already satisfied: nltk>=3.1 in /usr/local/lib/python3.10/dist-packages (from TextBlob) (3.8.1)\n",
            "Requirement already satisfied: click in /usr/local/lib/python3.10/dist-packages (from nltk>=3.1->TextBlob) (8.1.7)\n",
            "Requirement already satisfied: joblib in /usr/local/lib/python3.10/dist-packages (from nltk>=3.1->TextBlob) (1.4.2)\n",
            "Requirement already satisfied: regex>=2021.8.3 in /usr/local/lib/python3.10/dist-packages (from nltk>=3.1->TextBlob) (2024.5.15)\n",
            "Requirement already satisfied: tqdm in /usr/local/lib/python3.10/dist-packages (from nltk>=3.1->TextBlob) (4.66.4)\n"
          ]
        }
      ]
    },
    {
      "cell_type": "code",
      "source": [
        "# Check the sentiment for a text\n",
        "\n",
        "tang=\"I want to go out today\" # Meaning? Feeling?  bagood,d, no feeling (neutral)\n",
        "Tang=TextBlob(tang)\n",
        "Tang.sentiment\n",
        "\n",
        "#polarity from -1 to 1\n",
        "#subjectivity from 0 to 1"
      ],
      "metadata": {
        "colab": {
          "base_uri": "https://localhost:8080/"
        },
        "id": "gGLeFst4cWCX",
        "outputId": "ceeed03d-c8ed-4921-ce96-e9bdacc8dfde"
      },
      "execution_count": 8,
      "outputs": [
        {
          "output_type": "execute_result",
          "data": {
            "text/plain": [
              "Sentiment(polarity=0.0, subjectivity=0.0)"
            ]
          },
          "metadata": {},
          "execution_count": 8
        }
      ]
    },
    {
      "cell_type": "code",
      "source": [
        "# Ensure the Text column is of type string and handle NaN values\n",
        "df['Text'] = df['Text'].fillna('').astype(str)\n",
        "\n",
        "# Define the function to get sentiment polarity\n",
        "def get_sentiment(text):\n",
        "    blob = TextBlob(text)\n",
        "    return blob.sentiment.polarity\n",
        "\n",
        "# Apply the get_sentiment function to the Text column and create a new Sentiment column\n",
        "df['Sentiment'] = df['Text'].apply(get_sentiment)"
      ],
      "metadata": {
        "id": "4seO8jKKcc1q"
      },
      "execution_count": 9,
      "outputs": []
    },
    {
      "cell_type": "code",
      "source": [
        "print(df.columns)  # Check the column names in the DataFrame\n",
        "\n",
        "# Step 2: Print the Sentiment column to verify its contents\n",
        "print(df['Sentiment'])\n",
        "\n",
        "# Convert the Sentiment column to numeric, coercing errors to NaN\n",
        "df['Sentiment'] = pd.to_numeric(df['Sentiment'], errors='coerce')\n",
        "\n",
        "# Drop rows with NaN values in the Sentiment column\n",
        "df = df.dropna(subset=['Sentiment'])\n",
        "\n",
        "# Count the number of positive, negative, and neutral sentiment tweets\n",
        "num_positive_sentiments = len(df[df['Sentiment'] > 0])\n",
        "num_negative_sentiments = len(df[df['Sentiment'] < 0])\n",
        "num_neutral_sentiments = len(df[df['Sentiment'] == 0])\n",
        "\n",
        "print(\"Number of positive sentiment tweets:\", num_positive_sentiments)\n",
        "print(\"Number of negative sentiment tweets:\", num_negative_sentiments)\n",
        "print(\"Number of neutral sentiment tweets:\", num_neutral_sentiments)"
      ],
      "metadata": {
        "colab": {
          "base_uri": "https://localhost:8080/"
        },
        "id": "0i1-4yRQcepO",
        "outputId": "a61ee0b3-6a94-4e2b-9a85-9944261dc90d"
      },
      "execution_count": 10,
      "outputs": [
        {
          "output_type": "stream",
          "name": "stdout",
          "text": [
            "Index(['Vertex1', 'Vertex2', 'Type', 'Date', 'Text', 'Link', 'Likes', 'Quotes',\n",
            "       'Retweets', 'Comments', 'Sentiment'],\n",
            "      dtype='object')\n",
            "0      0.640000\n",
            "1      0.200000\n",
            "2     -0.600000\n",
            "3      0.000000\n",
            "4      1.000000\n",
            "         ...   \n",
            "863    0.223232\n",
            "864    0.000000\n",
            "865   -0.300000\n",
            "866    0.000000\n",
            "867    0.400000\n",
            "Name: Sentiment, Length: 868, dtype: float64\n",
            "Number of positive sentiment tweets: 557\n",
            "Number of negative sentiment tweets: 94\n",
            "Number of neutral sentiment tweets: 217\n"
          ]
        }
      ]
    },
    {
      "cell_type": "code",
      "source": [
        "# Define a function to convert polarity score to sentiment category\n",
        "def categorize_sentiment(polarity):\n",
        "    if polarity > 0:\n",
        "        return 'positive'\n",
        "    elif polarity < 0:\n",
        "        return 'negative'\n",
        "    else:\n",
        "        return 'neutral'\n",
        "\n",
        "# Apply the categorize_sentiment function to the Sentiment column to create a new SentimentCategory column\n",
        "df['SentimentCategory'] = df['Sentiment'].apply(categorize_sentiment)"
      ],
      "metadata": {
        "id": "yo1i3QJxcg_F"
      },
      "execution_count": 11,
      "outputs": []
    },
    {
      "cell_type": "code",
      "source": [
        "import matplotlib.pyplot as plt\n",
        "\n",
        "#Count frequency of each sentiment\n",
        "sentiment_counts = df['SentimentCategory'].value_counts()\n",
        "\n",
        "#Plot the bar chart\n",
        "sentiment_counts.plot(kind='bar')\n",
        "plt.title('Sentiment Analysis')\n",
        "plt.xlabel('Sentiment')\n",
        "plt.ylabel('Frequency')\n",
        "plt.show()"
      ],
      "metadata": {
        "colab": {
          "base_uri": "https://localhost:8080/",
          "height": 519
        },
        "id": "T2XI17K5cjEi",
        "outputId": "74aacd7d-b2f6-43c3-f402-23af98ba90b4"
      },
      "execution_count": 12,
      "outputs": [
        {
          "output_type": "display_data",
          "data": {
            "text/plain": [
              "<Figure size 640x480 with 1 Axes>"
            ],
            "image/png": "[encoded data removed]"
          },
          "metadata": {}
        }
      ]
    },
    {
      "cell_type": "code",
      "source": [],
      "metadata": {
        "id": "Jf7sHb-HhS8r"
      },
      "execution_count": null,
      "outputs": []
    }
  ]
}