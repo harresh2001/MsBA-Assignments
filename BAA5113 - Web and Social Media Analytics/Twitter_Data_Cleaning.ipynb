{
 "cells": [
  {
   "cell_type": "code",
   "execution_count": 6,
   "id": "9e40c82b",
   "metadata": {},
   "outputs": [
    {
     "name": "stdout",
     "output_type": "stream",
     "text": [
      "                                                 Text\n",
      "0   the true battle is  extinctionists who want a ...\n",
      "1   sending X links to your off platform friends i...\n",
      "2   sending X links to your off platform friends i...\n",
      "3                                 reuters new logo is\n",
      "4                                 reuters new logo is\n",
      "5                             optimus will be amazing\n",
      "6                                                    \n",
      "7                                                 wow\n",
      "8                                                cool\n",
      "9                                                    \n",
      "10  now imagine if the extinctionist philosophy is...\n",
      "11                                                   \n",
      "12                                                   \n",
      "13  you can also support this platform by sharing ...\n",
      "14  you can also support this platform by sharing ...\n",
      "15            truth is stranger  funnier than fiction\n",
      "16  spacexs mission is to extend consciousness to ...\n",
      "17                                    this sounds bad\n"
     ]
    }
   ],
   "source": [
    "import pandas as pd\n",
    "import re\n",
    "import unicodedata\n",
    "\n",
    "# Load the data\n",
    "data = pd.read_csv('elonmusk_NodeXL_tweets_data.csv')\n",
    "\n",
    "# Function to clean tweet text\n",
    "def clean_text(text):\n",
    "    if isinstance(text, str):  # Check if the entry is a string\n",
    "        text = text.lower()  # Convert to lowercase\n",
    "        text = re.sub(r'http\\S+', '', text)  # Remove URLs\n",
    "        text = re.sub(r'www\\S+', '', text)   # Remove URLs\n",
    "        text = re.sub(r'@\\w+', '', text)     # Remove @mentions\n",
    "        text = re.sub(r'#\\w+', '', text)     # Remove hashtags\n",
    "        text = re.sub(r'[^\\w\\s]', '', text)  # Remove special characters and punctuation\n",
    "        text = re.sub(r'\\d+', '', text)      # Remove digits\n",
    "        # Remove special characters representing dates and times\n",
    "        text = re.sub(r'\\b(?:jan|feb|mar|apr|may|jun|jul|aug|sep|oct|nov|dec)\\b\\s+\\d{1,2},\\s+\\d{4}\\s+•\\s+\\d{1,2}:\\d{2}\\s+(?:am|pm)\\s+utc', '', text)\n",
    "        # Normalize text to remove remaining special Unicode characters\n",
    "        text = unicodedata.normalize('NFKD', text).encode('ascii', 'ignore').decode('ascii')\n",
    "        return text.strip()\n",
    "    else:\n",
    "        return ''  # Return an empty string for non-string entries\n",
    "\n",
    "# Apply the clean_text function to the 'Text' column and overwrite it\n",
    "data['Text'] = data['Text'].apply(clean_text)\n",
    "\n",
    "# Export the cleaned data to a new CSV with a different name\n",
    "data.to_csv('elonmusk_cleaned_twitter_data_v3.csv', index=False)\n",
    "\n",
    "# Display the cleaned data (optional)\n",
    "print(data[['Text']])\n"
   ]
  },
  {
   "cell_type": "code",
   "execution_count": null,
   "id": "50084877",
   "metadata": {},
   "outputs": [],
   "source": []
  }
 ],
 "metadata": {
  "kernelspec": {
   "display_name": "Python 3 (ipykernel)",
   "language": "python",
   "name": "python3"
  },
  "language_info": {
   "codemirror_mode": {
    "name": "ipython",
    "version": 3
   },
   "file_extension": ".py",
   "mimetype": "text/x-python",
   "name": "python",
   "nbconvert_exporter": "python",
   "pygments_lexer": "ipython3",
   "version": "3.9.7"
  }
 },
 "nbformat": 4,
 "nbformat_minor": 5
}
