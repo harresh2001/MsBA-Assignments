{
 "cells": [
  {
   "cell_type": "code",
   "execution_count": 1,
   "id": "430aa3e3",
   "metadata": {},
   "outputs": [
    {
     "name": "stdout",
     "output_type": "stream",
     "text": [
      "Requirement already satisfied: ntscraper in c:\\users\\aarou\\anaconda3\\lib\\site-packages (0.3.13)\n",
      "Requirement already satisfied: requests in c:\\users\\aarou\\anaconda3\\lib\\site-packages (from ntscraper) (2.26.0)\n",
      "Requirement already satisfied: beautifulsoup4 in c:\\users\\aarou\\anaconda3\\lib\\site-packages (from ntscraper) (4.10.0)\n",
      "Requirement already satisfied: lxml in c:\\users\\aarou\\anaconda3\\lib\\site-packages (from ntscraper) (4.6.3)\n",
      "Requirement already satisfied: soupsieve>1.2 in c:\\users\\aarou\\anaconda3\\lib\\site-packages (from beautifulsoup4->ntscraper) (2.2.1)\n",
      "Requirement already satisfied: urllib3<1.27,>=1.21.1 in c:\\users\\aarou\\anaconda3\\lib\\site-packages (from requests->ntscraper) (1.26.7)\n",
      "Requirement already satisfied: certifi>=2017.4.17 in c:\\users\\aarou\\anaconda3\\lib\\site-packages (from requests->ntscraper) (2021.10.8)\n",
      "Requirement already satisfied: charset-normalizer~=2.0.0 in c:\\users\\aarou\\anaconda3\\lib\\site-packages (from requests->ntscraper) (2.0.4)\n",
      "Requirement already satisfied: idna<4,>=2.5 in c:\\users\\aarou\\anaconda3\\lib\\site-packages (from requests->ntscraper) (3.2)\n",
      "Note: you may need to restart the kernel to use updated packages.\n"
     ]
    },
    {
     "name": "stderr",
     "output_type": "stream",
     "text": [
      "\n",
      "[notice] A new release of pip is available: 23.2.1 -> 24.0\n",
      "[notice] To update, run: python.exe -m pip install --upgrade pip\n"
     ]
    }
   ],
   "source": [
    "pip install ntscraper"
   ]
  },
  {
   "cell_type": "code",
   "execution_count": 2,
   "id": "13925fd5",
   "metadata": {},
   "outputs": [],
   "source": [
    "from ntscraper import Nitter"
   ]
  },
  {
   "cell_type": "code",
   "execution_count": 3,
   "id": "c2206d6b",
   "metadata": {},
   "outputs": [
    {
     "name": "stderr",
     "output_type": "stream",
     "text": [
      "Testing instances:  71%|█████████████████████████████████████████████                  | 55/77 [01:45<00:53,  2.42s/it]"
     ]
    },
    {
     "name": "stdout",
     "output_type": "stream",
     "text": [
      "15-May-24 07:58:48 - Certificate did not match expected hostname: nitter.no-logs.com. Certificate: {'subject': ((('commonName', 'no-logs.com'),),), 'issuer': ((('countryName', 'US'),), (('organizationName', \"Let's Encrypt\"),), (('commonName', 'R3'),)), 'version': 3, 'serialNumber': '03D031100DF5685B02FBBE1577956863687F', 'notBefore': 'May 14 21:29:50 2024 GMT', 'notAfter': 'Aug 12 21:29:49 2024 GMT', 'subjectAltName': (('DNS', 'no-logs.com'),), 'OCSP': ('http://r3.o.lencr.org',), 'caIssuers': ('http://r3.i.lencr.org/',)}\n"
     ]
    },
    {
     "name": "stderr",
     "output_type": "stream",
     "text": [
      "Testing instances:  92%|██████████████████████████████████████████████████████████     | 71/77 [02:25<00:07,  1.32s/it]"
     ]
    },
    {
     "name": "stdout",
     "output_type": "stream",
     "text": [
      "15-May-24 07:59:28 - Certificate did not match expected hostname: nt.ggtyler.dev. Certificate: {'subject': ((('commonName', '4g.ggtyler.dev'),),), 'issuer': ((('countryName', 'US'),), (('organizationName', \"Let's Encrypt\"),), (('commonName', 'R3'),)), 'version': 3, 'serialNumber': '03A4459CE6DA31CFF555DB78FF3F35BFEA88', 'notBefore': 'May 14 10:55:44 2024 GMT', 'notAfter': 'Aug 12 10:55:43 2024 GMT', 'subjectAltName': (('DNS', '4g.ggtyler.dev'),), 'OCSP': ('http://r3.o.lencr.org',), 'caIssuers': ('http://r3.i.lencr.org/',)}\n"
     ]
    },
    {
     "name": "stderr",
     "output_type": "stream",
     "text": [
      "Testing instances:  95%|███████████████████████████████████████████████████████████▋   | 73/77 [02:26<00:04,  1.03s/it]"
     ]
    },
    {
     "name": "stdout",
     "output_type": "stream",
     "text": [
      "15-May-24 07:59:29 - Certificate did not match expected hostname: nitter.uni-sonia.com. Certificate: {'subject': ((('commonName', '*.xserver.jp'),),), 'issuer': ((('countryName', 'JP'),), (('organizationName', 'CloudSecure Corporation'),), (('commonName', 'CloudSecure RSA Domain Validation Secure Server CA 2'),)), 'version': 3, 'serialNumber': 'ACA67AD2030638EE2DCE8E845B8299A6', 'notBefore': 'Mar 11 00:00:00 2024 GMT', 'notAfter': 'Apr 11 23:59:59 2025 GMT', 'subjectAltName': (('DNS', '*.xserver.jp'), ('DNS', 'xserver.jp')), 'OCSP': ('http://ocsp.sectigo.com',), 'caIssuers': ('http://crt.sectigo.com/CloudSecureRSADomainValidationSecureServerCA2.crt',)}\n"
     ]
    },
    {
     "name": "stderr",
     "output_type": "stream",
     "text": [
      "Testing instances:  99%|██████████████████████████████████████████████████████████████▏| 76/77 [02:31<00:01,  1.49s/it]"
     ]
    },
    {
     "name": "stdout",
     "output_type": "stream",
     "text": [
      "15-May-24 07:59:34 - Certificate did not match expected hostname: nitter.tinfoil-hat.net. Certificate: {'subject': ((('commonName', 'jelly.tinfoil-hat.de'),),), 'issuer': ((('countryName', 'US'),), (('organizationName', \"Let's Encrypt\"),), (('commonName', 'R3'),)), 'version': 3, 'serialNumber': '03F338CE809E122DC2875C50A27A840DD7A4', 'notBefore': 'Mar 15 22:40:16 2024 GMT', 'notAfter': 'Jun 13 22:40:15 2024 GMT', 'subjectAltName': (('DNS', 'jelly.tinfoil-hat.de'),), 'OCSP': ('http://r3.o.lencr.org',), 'caIssuers': ('http://r3.i.lencr.org/',)}\n"
     ]
    },
    {
     "name": "stderr",
     "output_type": "stream",
     "text": [
      "Testing instances: 100%|███████████████████████████████████████████████████████████████| 77/77 [02:32<00:00,  1.98s/it]\n"
     ]
    }
   ],
   "source": [
    "scraper = Nitter(log_level = 1, skip_instance_check= False)"
   ]
  },
  {
   "cell_type": "code",
   "execution_count": 4,
   "id": "641a57fe",
   "metadata": {},
   "outputs": [
    {
     "name": "stdout",
     "output_type": "stream",
     "text": [
      "15-May-24 07:59:35 - Note: NumExpr detected 12 cores but \"NUMEXPR_MAX_THREADS\" not set, so enforcing safe limit of 8.\n",
      "15-May-24 07:59:35 - NumExpr defaulting to 8 threads.\n"
     ]
    }
   ],
   "source": [
    "import pandas as pd\n",
    "from ntscraper import Nitter\n",
    "\n",
    "def create_tweets_dataset(username, no_of_tweets):\n",
    "    scraper = Nitter()\n",
    "    tweets = scraper.get_tweets(username, mode=\"user\", number=no_of_tweets)\n",
    "    data = {\n",
    "        'Vertex1': [],\n",
    "        'Vertex2': [],\n",
    "        'Type': [],\n",
    "        'Date': [],\n",
    "        'Text': [],\n",
    "        'Link': [],\n",
    "        'Likes': [],\n",
    "        'Quotes': [],\n",
    "        'Retweets': [],\n",
    "        'Comments': []\n",
    "    }\n",
    "\n",
    "    for tweet in tweets['tweets']:\n",
    "        user = tweet['user']['username']  # The user who posted the tweet\n",
    "\n",
    "        # Define the condition to exclude specific rows, e.g., exclude specific usernames or tweet types\n",
    "        if user in ['@specificuser1', '@specificuser2']:  # Example condition\n",
    "            continue  # Skip this iteration and do not add this tweet to the dataset\n",
    "\n",
    "        # Add the user-tweet relationship\n",
    "        data['Vertex1'].append(user)\n",
    "        data['Vertex2'].append(tweet['link'])  # Use the tweet link as a unique identifier for the tweet\n",
    "        data['Type'].append('Posted')\n",
    "        data['Date'].append(tweet['date'])\n",
    "        data['Text'].append(tweet['text'])\n",
    "        data['Link'].append(tweet['link'])\n",
    "        data['Likes'].append(tweet['stats']['likes'])\n",
    "        data['Quotes'].append(tweet['stats']['quotes'])\n",
    "        data['Retweets'].append(tweet['stats']['retweets'])\n",
    "        data['Comments'].append(tweet['stats']['comments'])\n",
    "\n",
    "        # Check for retweets and mentions\n",
    "        if tweet['is-retweet']:\n",
    "            # Extract the original user from the retweet (if available)\n",
    "            original_user = tweet['retweet']['user']['username'] if 'retweet' in tweet else \"@originaluser\"\n",
    "            data['Vertex1'].append(user)\n",
    "            data['Vertex2'].append(original_user)\n",
    "            data['Type'].append('Retweet')\n",
    "            data['Date'].append(tweet['date'])\n",
    "            data['Text'].append(tweet['text'])\n",
    "            data['Link'].append(tweet['link'])\n",
    "            data['Likes'].append('')\n",
    "            data['Quotes'].append('')\n",
    "            data['Retweets'].append('')\n",
    "            data['Comments'].append('')\n",
    "\n",
    "    # Create DataFrame\n",
    "    df = pd.DataFrame(data)\n",
    "\n",
    "    # Export to CSV\n",
    "    df.to_csv(username + \"_NodeXL_tweets_data.csv\", index=False)\n"
   ]
  },
  {
   "cell_type": "code",
   "execution_count": 5,
   "id": "dd36c36c",
   "metadata": {},
   "outputs": [
    {
     "name": "stderr",
     "output_type": "stream",
     "text": [
      "Testing instances:  71%|█████████████████████████████████████████████                  | 55/77 [02:00<00:42,  1.92s/it]"
     ]
    },
    {
     "name": "stdout",
     "output_type": "stream",
     "text": [
      "15-May-24 08:01:37 - Certificate did not match expected hostname: nitter.no-logs.com. Certificate: {'subject': ((('commonName', 'no-logs.com'),),), 'issuer': ((('countryName', 'US'),), (('organizationName', \"Let's Encrypt\"),), (('commonName', 'R3'),)), 'version': 3, 'serialNumber': '03D031100DF5685B02FBBE1577956863687F', 'notBefore': 'May 14 21:29:50 2024 GMT', 'notAfter': 'Aug 12 21:29:49 2024 GMT', 'subjectAltName': (('DNS', 'no-logs.com'),), 'OCSP': ('http://r3.o.lencr.org',), 'caIssuers': ('http://r3.i.lencr.org/',)}\n"
     ]
    },
    {
     "name": "stderr",
     "output_type": "stream",
     "text": [
      "Testing instances:  92%|██████████████████████████████████████████████████████████     | 71/77 [02:29<00:07,  1.32s/it]"
     ]
    },
    {
     "name": "stdout",
     "output_type": "stream",
     "text": [
      "15-May-24 08:02:06 - Certificate did not match expected hostname: nt.ggtyler.dev. Certificate: {'subject': ((('commonName', '4g.ggtyler.dev'),),), 'issuer': ((('countryName', 'US'),), (('organizationName', \"Let's Encrypt\"),), (('commonName', 'R3'),)), 'version': 3, 'serialNumber': '03A4459CE6DA31CFF555DB78FF3F35BFEA88', 'notBefore': 'May 14 10:55:44 2024 GMT', 'notAfter': 'Aug 12 10:55:43 2024 GMT', 'subjectAltName': (('DNS', '4g.ggtyler.dev'),), 'OCSP': ('http://r3.o.lencr.org',), 'caIssuers': ('http://r3.i.lencr.org/',)}\n"
     ]
    },
    {
     "name": "stderr",
     "output_type": "stream",
     "text": [
      "\r",
      "Testing instances:  94%|██████████████████████████████████████████████████████████▉    | 72/77 [02:30<00:06,  1.25s/it]"
     ]
    },
    {
     "name": "stdout",
     "output_type": "stream",
     "text": [
      "15-May-24 08:02:07 - Certificate did not match expected hostname: nitter.uni-sonia.com. Certificate: {'subject': ((('commonName', '*.xserver.jp'),),), 'issuer': ((('countryName', 'JP'),), (('organizationName', 'CloudSecure Corporation'),), (('commonName', 'CloudSecure RSA Domain Validation Secure Server CA 2'),)), 'version': 3, 'serialNumber': 'ACA67AD2030638EE2DCE8E845B8299A6', 'notBefore': 'Mar 11 00:00:00 2024 GMT', 'notAfter': 'Apr 11 23:59:59 2025 GMT', 'subjectAltName': (('DNS', '*.xserver.jp'), ('DNS', 'xserver.jp')), 'OCSP': ('http://ocsp.sectigo.com',), 'caIssuers': ('http://crt.sectigo.com/CloudSecureRSADomainValidationSecureServerCA2.crt',)}\n"
     ]
    },
    {
     "name": "stderr",
     "output_type": "stream",
     "text": [
      "Testing instances:  99%|██████████████████████████████████████████████████████████████▏| 76/77 [02:33<00:01,  1.07s/it]"
     ]
    },
    {
     "name": "stdout",
     "output_type": "stream",
     "text": [
      "15-May-24 08:02:10 - Certificate did not match expected hostname: nitter.tinfoil-hat.net. Certificate: {'subject': ((('commonName', 'jelly.tinfoil-hat.de'),),), 'issuer': ((('countryName', 'US'),), (('organizationName', \"Let's Encrypt\"),), (('commonName', 'R3'),)), 'version': 3, 'serialNumber': '03F338CE809E122DC2875C50A27A840DD7A4', 'notBefore': 'Mar 15 22:40:16 2024 GMT', 'notAfter': 'Jun 13 22:40:15 2024 GMT', 'subjectAltName': (('DNS', 'jelly.tinfoil-hat.de'),), 'OCSP': ('http://r3.o.lencr.org',), 'caIssuers': ('http://r3.i.lencr.org/',)}\n"
     ]
    },
    {
     "name": "stderr",
     "output_type": "stream",
     "text": [
      "Testing instances: 100%|███████████████████████████████████████████████████████████████| 77/77 [02:33<00:00,  2.00s/it]"
     ]
    },
    {
     "name": "stdout",
     "output_type": "stream",
     "text": [
      "15-May-24 08:02:10 - No instance specified, using random instance https://nitter.esmailelbob.xyz\n"
     ]
    },
    {
     "name": "stderr",
     "output_type": "stream",
     "text": [
      "\n"
     ]
    },
    {
     "name": "stdout",
     "output_type": "stream",
     "text": [
      "15-May-24 08:02:16 - Current stats for elonmusk: 15 tweets, 0 threads...\n"
     ]
    }
   ],
   "source": [
    "create_tweets_dataset(\"elonmusk\",15)"
   ]
  }
 ],
 "metadata": {
  "kernelspec": {
   "display_name": "Python 3 (ipykernel)",
   "language": "python",
   "name": "python3"
  },
  "language_info": {
   "codemirror_mode": {
    "name": "ipython",
    "version": 3
   },
   "file_extension": ".py",
   "mimetype": "text/x-python",
   "name": "python",
   "nbconvert_exporter": "python",
   "pygments_lexer": "ipython3",
   "version": "3.9.7"
  }
 },
 "nbformat": 4,
 "nbformat_minor": 5
}
