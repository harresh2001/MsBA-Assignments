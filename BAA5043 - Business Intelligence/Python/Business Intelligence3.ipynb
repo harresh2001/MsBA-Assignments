{
 "cells": [
  {
   "cell_type": "code",
   "execution_count": 1,
   "id": "b49860d4-a0df-4c24-a3d0-7ce3abd7740a",
   "metadata": {},
   "outputs": [],
   "source": [
    "import pandas as pd\n",
    "import numpy as np"
   ]
  },
  {
   "cell_type": "code",
   "execution_count": 2,
   "id": "ffcf1ba8-8f45-4d15-a762-581cfc890767",
   "metadata": {},
   "outputs": [],
   "source": [
    "df = pd.read_csv(\"C:/Users/yvonn/OneDrive/Desktop/SUNWAY/202409-S4/Business Intelligence/Assignment/HDIdata.csv\")"
   ]
  },
  {
   "cell_type": "code",
   "execution_count": 3,
   "id": "8b0bdd40-1b06-4e95-a4ff-20421bea1aab",
   "metadata": {},
   "outputs": [
    {
     "data": {
      "text/html": [
       "<div>\n",
       "<style scoped>\n",
       "    .dataframe tbody tr th:only-of-type {\n",
       "        vertical-align: middle;\n",
       "    }\n",
       "\n",
       "    .dataframe tbody tr th {\n",
       "        vertical-align: top;\n",
       "    }\n",
       "\n",
       "    .dataframe thead th {\n",
       "        text-align: right;\n",
       "    }\n",
       "</style>\n",
       "<table border=\"1\" class=\"dataframe\">\n",
       "  <thead>\n",
       "    <tr style=\"text-align: right;\">\n",
       "      <th></th>\n",
       "      <th>crossid</th>\n",
       "      <th>Country.x</th>\n",
       "      <th>year</th>\n",
       "      <th>hdi</th>\n",
       "    </tr>\n",
       "  </thead>\n",
       "  <tbody>\n",
       "    <tr>\n",
       "      <th>0</th>\n",
       "      <td>crossid</td>\n",
       "      <td>country</td>\n",
       "      <td>year</td>\n",
       "      <td>hdi</td>\n",
       "    </tr>\n",
       "    <tr>\n",
       "      <th>1</th>\n",
       "      <td>Afghanistan_1980</td>\n",
       "      <td>Afghanistan</td>\n",
       "      <td>1980</td>\n",
       "      <td>NaN</td>\n",
       "    </tr>\n",
       "    <tr>\n",
       "      <th>2</th>\n",
       "      <td>Afghanistan_1981</td>\n",
       "      <td>Afghanistan</td>\n",
       "      <td>1981</td>\n",
       "      <td>NaN</td>\n",
       "    </tr>\n",
       "    <tr>\n",
       "      <th>3</th>\n",
       "      <td>Afghanistan_1982</td>\n",
       "      <td>Afghanistan</td>\n",
       "      <td>1982</td>\n",
       "      <td>NaN</td>\n",
       "    </tr>\n",
       "    <tr>\n",
       "      <th>4</th>\n",
       "      <td>Afghanistan_1983</td>\n",
       "      <td>Afghanistan</td>\n",
       "      <td>1983</td>\n",
       "      <td>NaN</td>\n",
       "    </tr>\n",
       "  </tbody>\n",
       "</table>\n",
       "</div>"
      ],
      "text/plain": [
       "            crossid    Country.x  year  hdi\n",
       "0           crossid      country  year  hdi\n",
       "1  Afghanistan_1980  Afghanistan  1980  NaN\n",
       "2  Afghanistan_1981  Afghanistan  1981  NaN\n",
       "3  Afghanistan_1982  Afghanistan  1982  NaN\n",
       "4  Afghanistan_1983  Afghanistan  1983  NaN"
      ]
     },
     "execution_count": 3,
     "metadata": {},
     "output_type": "execute_result"
    }
   ],
   "source": [
    "df.head()"
   ]
  },
  {
   "cell_type": "code",
   "execution_count": 4,
   "id": "4a89848d-d4ad-4afa-98b1-0a41f723fe68",
   "metadata": {},
   "outputs": [
    {
     "data": {
      "text/html": [
       "<div>\n",
       "<style scoped>\n",
       "    .dataframe tbody tr th:only-of-type {\n",
       "        vertical-align: middle;\n",
       "    }\n",
       "\n",
       "    .dataframe tbody tr th {\n",
       "        vertical-align: top;\n",
       "    }\n",
       "\n",
       "    .dataframe thead th {\n",
       "        text-align: right;\n",
       "    }\n",
       "</style>\n",
       "<table border=\"1\" class=\"dataframe\">\n",
       "  <thead>\n",
       "    <tr style=\"text-align: right;\">\n",
       "      <th></th>\n",
       "      <th>crossid</th>\n",
       "      <th>Country name</th>\n",
       "      <th>year</th>\n",
       "      <th>hdi</th>\n",
       "    </tr>\n",
       "  </thead>\n",
       "  <tbody>\n",
       "    <tr>\n",
       "      <th>0</th>\n",
       "      <td>crossid</td>\n",
       "      <td>country</td>\n",
       "      <td>year</td>\n",
       "      <td>hdi</td>\n",
       "    </tr>\n",
       "    <tr>\n",
       "      <th>1</th>\n",
       "      <td>Afghanistan_1980</td>\n",
       "      <td>Afghanistan</td>\n",
       "      <td>1980</td>\n",
       "      <td>NaN</td>\n",
       "    </tr>\n",
       "    <tr>\n",
       "      <th>2</th>\n",
       "      <td>Afghanistan_1981</td>\n",
       "      <td>Afghanistan</td>\n",
       "      <td>1981</td>\n",
       "      <td>NaN</td>\n",
       "    </tr>\n",
       "    <tr>\n",
       "      <th>3</th>\n",
       "      <td>Afghanistan_1982</td>\n",
       "      <td>Afghanistan</td>\n",
       "      <td>1982</td>\n",
       "      <td>NaN</td>\n",
       "    </tr>\n",
       "    <tr>\n",
       "      <th>4</th>\n",
       "      <td>Afghanistan_1983</td>\n",
       "      <td>Afghanistan</td>\n",
       "      <td>1983</td>\n",
       "      <td>NaN</td>\n",
       "    </tr>\n",
       "  </tbody>\n",
       "</table>\n",
       "</div>"
      ],
      "text/plain": [
       "            crossid Country name  year  hdi\n",
       "0           crossid      country  year  hdi\n",
       "1  Afghanistan_1980  Afghanistan  1980  NaN\n",
       "2  Afghanistan_1981  Afghanistan  1981  NaN\n",
       "3  Afghanistan_1982  Afghanistan  1982  NaN\n",
       "4  Afghanistan_1983  Afghanistan  1983  NaN"
      ]
     },
     "execution_count": 4,
     "metadata": {},
     "output_type": "execute_result"
    }
   ],
   "source": [
    "# Rename the 'Country.x' column to 'Country name'\n",
    "df = df.rename(columns={'Country.x': 'Country name'})\n",
    "df.head()"
   ]
  },
  {
   "cell_type": "code",
   "execution_count": 5,
   "id": "72632ec8-5db5-4508-9660-b3338a660c27",
   "metadata": {},
   "outputs": [],
   "source": [
    "# Create a dictionary to map different country name variations to a standard format\n",
    "country_name_corrections = {\n",
    "    'Gambia, The': 'Gambia',\n",
    "    \"CÃ´te d'Ivoire\": 'Ivory Coast',\n",
    "    'Türkiye': 'Turkey',\n",
    "    'Laos': 'Lao PDR',\n",
    "    'Kyrgyzstan': 'Kyrgyz Republic',\n",
    "    'Viet Nam': 'Vietnam',\n",
    "    'Syrian Arab Republic': 'Syria',\n",
    "    'Slovak Republic': 'Slovakia',\n",
    "    'Bahamas, The': 'Bahamas',\n",
    "    'Congo, Dem. Rep.': 'Congo (Kinshasa)',\n",
    "    'Congo, Democratic Rep.': 'Congo (Kinshasa)',\n",
    "    'Congo, Rep.': 'Congo (Brazzaville)',\n",
    "    'Czech Republic': 'Czechia',\n",
    "    'Egypt, Arab Rep.': 'Egypt',\n",
    "    'Hong Kong SAR': 'Hong Kong S.A.R. of China',\n",
    "    'Hong Kong SAR, China': 'Hong Kong S.A.R. of China',\n",
    "    'Iran, Islamic Rep.': 'Iran',\n",
    "    'Korea, Dem. People\\'s Rep.': 'North Korea',\n",
    "    'Korea, Rep.': 'South Korea',\n",
    "    'Macao SAR, China': 'Macau',\n",
    "    'Macedonia, FYR': 'North Macedonia',\n",
    "    'Russia': 'Russian Federation',\n",
    "    'Taiwan, China': 'Taiwan Province of China',\n",
    "    'United States': 'United States of America',\n",
    "    'Venezuela, RB': 'Venezuela',\n",
    "    'Yemen, Rep.': 'Yemen'\n",
    "}\n",
    "\n",
    "# Replace country names in both datasets based on the mapping\n",
    "df['Country name'] = df['Country name'].replace(country_name_corrections)\n",
    "\n",
    "# Replace the crossid based on corrected name\n",
    "df['crossid'] = df['Country name'] + '_' + df['year'].astype(str)"
   ]
  },
  {
   "cell_type": "code",
   "execution_count": 6,
   "id": "22045c95-b241-4ae1-a8c5-038e72dbf2f8",
   "metadata": {},
   "outputs": [],
   "source": [
    "# Convert the 'year' column to integer (if it contains non-numeric values, can use errors='coerce' to handle them)\n",
    "df['year'] = pd.to_numeric(df['year'], errors='coerce')"
   ]
  },
  {
   "cell_type": "code",
   "execution_count": 7,
   "id": "190549b7-82f6-42f8-bec0-fad86989768e",
   "metadata": {},
   "outputs": [],
   "source": [
    "# Filter the merged dataset to include only rows where 'year' is between 2011 and 2022\n",
    "filtered_df = df[(df['year'] >= 2011) & (df['year'] <= 2022)]\n"
   ]
  },
  {
   "cell_type": "code",
   "execution_count": 8,
   "id": "ea8393a1-5cf4-4ecb-a2f5-ef5328db3b06",
   "metadata": {},
   "outputs": [
    {
     "name": "stdout",
     "output_type": "stream",
     "text": [
      "crossid            0\n",
      "Country name       0\n",
      "year               1\n",
      "hdi             3257\n",
      "dtype: int64\n"
     ]
    }
   ],
   "source": [
    "# Check for missing values in the merged DataFrame\n",
    "missing_values = df.isnull().sum()\n",
    "\n",
    "# Display the count of missing values\n",
    "print(missing_values)"
   ]
  },
  {
   "cell_type": "code",
   "execution_count": 9,
   "id": "21425d5f-d260-4d11-aef7-359a2e388fc0",
   "metadata": {},
   "outputs": [
    {
     "name": "stdout",
     "output_type": "stream",
     "text": [
      "DataFrame successfully exported to HDI_Cleaned.csv\n"
     ]
    }
   ],
   "source": [
    "# Export the DataFrame to a CSV file\n",
    "csv_file_path = 'HDI_Cleaned.csv'\n",
    "filtered_df.to_csv(csv_file_path, index=False)\n",
    "\n",
    "print(f'DataFrame successfully exported to {csv_file_path}')"
   ]
  },
  {
   "cell_type": "code",
   "execution_count": 10,
   "id": "783b7922-7512-4866-a48b-d6e13fbde623",
   "metadata": {},
   "outputs": [],
   "source": [
    "# Drop rows with missing values in 'hdi'\n",
    "df_clean = filtered_df.dropna(subset=['hdi'])"
   ]
  },
  {
   "cell_type": "code",
   "execution_count": 11,
   "id": "a10d3e30-2511-464e-a9bc-d239441293d1",
   "metadata": {},
   "outputs": [
    {
     "name": "stdout",
     "output_type": "stream",
     "text": [
      "crossid         0\n",
      "Country name    0\n",
      "year            0\n",
      "hdi             0\n",
      "dtype: int64\n"
     ]
    }
   ],
   "source": [
    "# Check for missing values in the merged DataFrame\n",
    "missing_values = df_clean.isnull().sum()\n",
    "\n",
    "# Display the count of missing values\n",
    "print(missing_values)"
   ]
  },
  {
   "cell_type": "code",
   "execution_count": 12,
   "id": "6669ead0-7beb-4762-aa15-ee6bf5f0e286",
   "metadata": {},
   "outputs": [
    {
     "name": "stdout",
     "output_type": "stream",
     "text": [
      "    Country name     hdi\n",
      "0    Afghanistan  0.4795\n",
      "1        Albania  0.7940\n",
      "2        Algeria  0.7370\n",
      "3        Andorra  0.8595\n",
      "4         Angola  0.5910\n",
      "..           ...     ...\n",
      "171      Vietnam  0.7040\n",
      "172        World  0.7300\n",
      "173        Yemen  0.4310\n",
      "174       Zambia  0.5645\n",
      "175     Zimbabwe  0.5480\n",
      "\n",
      "[176 rows x 2 columns]\n"
     ]
    },
    {
     "name": "stderr",
     "output_type": "stream",
     "text": [
      "C:\\Users\\yvonn\\AppData\\Local\\Temp\\ipykernel_28412\\3933413379.py:2: SettingWithCopyWarning: \n",
      "A value is trying to be set on a copy of a slice from a DataFrame.\n",
      "Try using .loc[row_indexer,col_indexer] = value instead\n",
      "\n",
      "See the caveats in the documentation: https://pandas.pydata.org/pandas-docs/stable/user_guide/indexing.html#returning-a-view-versus-a-copy\n",
      "  df_clean['hdi'] = pd.to_numeric(df_clean['hdi'], errors='coerce')  # 'coerce' converts invalid values to NaN\n"
     ]
    }
   ],
   "source": [
    "# Convert 'hdi' column to numeric (handling errors if any)\n",
    "df_clean['hdi'] = pd.to_numeric(df_clean['hdi'], errors='coerce')  # 'coerce' converts invalid values to NaN\n",
    "\n",
    "# Group by 'Country name' and calculate the median of 'hdi'\n",
    "df_grouped = df_clean.groupby('Country name')['hdi'].median().reset_index()\n",
    "\n",
    "# Print the grouped data with median hdi\n",
    "print(df_grouped)"
   ]
  },
  {
   "cell_type": "code",
   "execution_count": 13,
   "id": "83570533-7a05-4947-8019-fbc95bb08766",
   "metadata": {},
   "outputs": [
    {
     "name": "stdout",
     "output_type": "stream",
     "text": [
      "CSV file 'median_hdi_by_country.csv' created successfully.\n"
     ]
    }
   ],
   "source": [
    "# Save to CSV file with two columns: Country name and median hdi\n",
    "df_grouped.to_csv('median_hdi_by_country.csv', index=False)\n",
    "\n",
    "# Print the path to check the saved file (if working locally)\n",
    "print(\"CSV file 'median_hdi_by_country.csv' created successfully.\")"
   ]
  },
  {
   "cell_type": "code",
   "execution_count": 14,
   "id": "b36ec1b7-b4eb-45e6-b4ec-bab45a6b271b",
   "metadata": {},
   "outputs": [],
   "source": [
    "from sklearn.preprocessing import StandardScaler\n",
    "from sklearn.cluster import KMeans"
   ]
  },
  {
   "cell_type": "code",
   "execution_count": 15,
   "id": "1137f93c-93b5-452a-9c18-bf7935481300",
   "metadata": {},
   "outputs": [],
   "source": [
    "# Standardize the HDI values\n",
    "scaler = StandardScaler()\n",
    "df_grouped['hdi_scaled'] = scaler.fit_transform(df_grouped[['hdi']])"
   ]
  },
  {
   "cell_type": "code",
   "execution_count": 16,
   "id": "5dc4b186-eea9-4650-991f-c446194e071c",
   "metadata": {},
   "outputs": [
    {
     "name": "stderr",
     "output_type": "stream",
     "text": [
      "C:\\Users\\yvonn\\AppData\\Local\\anaconda3\\Lib\\site-packages\\sklearn\\cluster\\_kmeans.py:870: FutureWarning: The default value of `n_init` will change from 10 to 'auto' in 1.4. Set the value of `n_init` explicitly to suppress the warning\n",
      "  warnings.warn(\n",
      "C:\\Users\\yvonn\\AppData\\Local\\anaconda3\\Lib\\site-packages\\sklearn\\cluster\\_kmeans.py:1382: UserWarning: KMeans is known to have a memory leak on Windows with MKL, when there are less chunks than available threads. You can avoid it by setting the environment variable OMP_NUM_THREADS=1.\n",
      "  warnings.warn(\n"
     ]
    }
   ],
   "source": [
    "# Apply KMeans clustering (3 clusters for low, middle, and high income)\n",
    "kmeans = KMeans(n_clusters=4, random_state=42)\n",
    "df_grouped['cluster'] = kmeans.fit_predict(df_grouped[['hdi_scaled']])"
   ]
  },
  {
   "cell_type": "code",
   "execution_count": 17,
   "id": "ba39e6c6-9714-4645-b82e-696a4ad008a9",
   "metadata": {},
   "outputs": [
    {
     "name": "stdout",
     "output_type": "stream",
     "text": [
      "Cluster Centers (Scaled HDI):\n",
      "[[-0.68455246]\n",
      " [ 1.17567075]\n",
      " [-1.57866907]\n",
      " [ 0.28002464]]\n",
      "Cluster Centers (Original HDI):\n",
      "[[0.60781429]\n",
      " [0.89635106]\n",
      " [0.46912903]\n",
      " [0.75742857]]\n"
     ]
    }
   ],
   "source": [
    "# Check the cluster centers (in scaled HDI values)\n",
    "print(\"Cluster Centers (Scaled HDI):\")\n",
    "print(kmeans.cluster_centers_)\n",
    "\n",
    "# Convert cluster centers back to the original HDI values for better interpretation\n",
    "cluster_centers_original = scaler.inverse_transform(kmeans.cluster_centers_)\n",
    "print(\"Cluster Centers (Original HDI):\")\n",
    "print(cluster_centers_original)\n"
   ]
  },
  {
   "cell_type": "code",
   "execution_count": 18,
   "id": "ab3c83e6-3c6c-4a2d-a8fb-d38fc5e38d8f",
   "metadata": {},
   "outputs": [
    {
     "name": "stdout",
     "output_type": "stream",
     "text": [
      "Cluster Centers (Scaled and Original HDI) in Ascending Order:\n",
      "[[-1.57866907  0.46912903]\n",
      " [-0.68455246  0.60781429]\n",
      " [ 0.28002464  0.75742857]\n",
      " [ 1.17567075  0.89635106]]\n"
     ]
    }
   ],
   "source": [
    "cluster_centers_combined = np.hstack((kmeans.cluster_centers_, cluster_centers_original))\n",
    "\n",
    "# Sort the cluster centers by the original HDI values (second column in the array)\n",
    "cluster_centers_sorted = cluster_centers_combined[cluster_centers_combined[:, 1].argsort()]\n",
    "\n",
    "# Print the sorted cluster centers\n",
    "print(\"Cluster Centers (Scaled and Original HDI) in Ascending Order:\")\n",
    "print(cluster_centers_sorted)"
   ]
  },
  {
   "cell_type": "code",
   "execution_count": 19,
   "id": "562394a3-4144-4573-ad37-5287f628dd75",
   "metadata": {},
   "outputs": [
    {
     "name": "stdout",
     "output_type": "stream",
     "text": [
      "    Country name     hdi         income_group\n",
      "0    Afghanistan  0.4795           Low income\n",
      "1        Albania  0.7940  Upper-middle income\n",
      "2        Algeria  0.7370  Upper-middle income\n",
      "3        Andorra  0.8595          High income\n",
      "4         Angola  0.5910  Lower-middle income\n",
      "..           ...     ...                  ...\n",
      "171      Vietnam  0.7040  Upper-middle income\n",
      "172        World  0.7300  Upper-middle income\n",
      "173        Yemen  0.4310           Low income\n",
      "174       Zambia  0.5645  Lower-middle income\n",
      "175     Zimbabwe  0.5480  Lower-middle income\n",
      "\n",
      "[176 rows x 3 columns]\n"
     ]
    }
   ],
   "source": [
    "# Cluster centers after sorting\n",
    "cluster_centers_sorted = cluster_centers_combined[cluster_centers_combined[:, 1].argsort()]\n",
    "\n",
    "# Map sorted clusters to income groups based on ascending HDI\n",
    "cluster_labels_sorted = {\n",
    "    np.where(kmeans.cluster_centers_ == cluster_centers_sorted[0, 0])[0][0]: 'Low income',\n",
    "    np.where(kmeans.cluster_centers_ == cluster_centers_sorted[1, 0])[0][0]: 'Lower-middle income',\n",
    "    np.where(kmeans.cluster_centers_ == cluster_centers_sorted[2, 0])[0][0]: 'Upper-middle income',\n",
    "    np.where(kmeans.cluster_centers_ == cluster_centers_sorted[3, 0])[0][0]: 'High income'\n",
    "}\n",
    "\n",
    "# Assign the new income group labels to the DataFrame based on the new cluster labels\n",
    "df_grouped['income_group'] = df_grouped['cluster'].map(cluster_labels_sorted)\n",
    "\n",
    "# Print the updated DataFrame\n",
    "print(df_grouped[['Country name', 'hdi', 'income_group']])\n"
   ]
  },
  {
   "cell_type": "code",
   "execution_count": 20,
   "id": "f2079256-74a3-43b0-828b-303008a68c41",
   "metadata": {},
   "outputs": [],
   "source": [
    "# Save the clustered data to a CSV file\n",
    "df_grouped[['Country name', 'hdi', 'income_group']].to_csv('clustered_countries_income_groups.csv', index=False)"
   ]
  },
  {
   "cell_type": "code",
   "execution_count": 21,
   "id": "73a45495-721a-4e8c-bafa-e6ba0c72b0a7",
   "metadata": {},
   "outputs": [
    {
     "name": "stdout",
     "output_type": "stream",
     "text": [
      "    Country name     hdi         income_group\n",
      "0    Afghanistan  0.4795           Low income\n",
      "1        Albania  0.7940  Upper-middle income\n",
      "2        Algeria  0.7370  Upper-middle income\n",
      "3        Andorra  0.8595          High income\n",
      "4         Angola  0.5910  Lower-middle income\n",
      "..           ...     ...                  ...\n",
      "171      Vietnam  0.7040  Upper-middle income\n",
      "172        World  0.7300  Upper-middle income\n",
      "173        Yemen  0.4310           Low income\n",
      "174       Zambia  0.5645  Lower-middle income\n",
      "175     Zimbabwe  0.5480  Lower-middle income\n",
      "\n",
      "[176 rows x 3 columns]\n"
     ]
    }
   ],
   "source": [
    "# Print the result\n",
    "print(df_grouped[['Country name', 'hdi', 'income_group']])"
   ]
  },
  {
   "cell_type": "code",
   "execution_count": 22,
   "id": "dc93ab38-30f1-4ebe-9298-600d87e8bf97",
   "metadata": {},
   "outputs": [
    {
     "name": "stdout",
     "output_type": "stream",
     "text": [
      "\n",
      "Countries in Cluster 0 (Lower-middle income):\n",
      "              Country name     hdi\n",
      "4                   Angola  0.5910\n",
      "12              Bangladesh  0.6175\n",
      "18                  Bhutan  0.6395\n",
      "26              Cabo Verde  0.6620\n",
      "27                Cambodia  0.5770\n",
      "28                Cameroon  0.5700\n",
      "35                 Comoros  0.5670\n",
      "47             El Salvador  0.6650\n",
      "48       Equatorial Guinea  0.6490\n",
      "58                   Ghana  0.5865\n",
      "61               Guatemala  0.6315\n",
      "65                   Haiti  0.5515\n",
      "66                Honduras  0.6140\n",
      "69                   India  0.6315\n",
      "71                    Iraq  0.6610\n",
      "80                   Kenya  0.5885\n",
      "81                Kiribati  0.6255\n",
      "104                Morocco  0.6665\n",
      "106                Myanmar  0.5735\n",
      "107                Namibia  0.6230\n",
      "108                  Nauru  0.6595\n",
      "109                  Nepal  0.5775\n",
      "112              Nicaragua  0.6510\n",
      "121       Papua New Guinea  0.5500\n",
      "133  Sao Tome and Principe  0.6015\n",
      "141        Solomon Islands  0.5635\n",
      "144             South Asia  0.6335\n",
      "148     Sub-Saharan Africa  0.5465\n",
      "153                  Syria  0.5580\n",
      "154             Tajikistan  0.6555\n",
      "156            Timor-Leste  0.6240\n",
      "162                 Tuvalu  0.6520\n",
      "170                Vanuatu  0.5975\n",
      "174                 Zambia  0.5645\n",
      "175               Zimbabwe  0.5480\n",
      "\n",
      "Countries in Cluster 1 (High income):\n",
      "                 Country name     hdi\n",
      "3                     Andorra  0.8595\n",
      "6                   Argentina  0.8475\n",
      "8                   Australia  0.9365\n",
      "9                     Austria  0.9135\n",
      "11                    Bahrain  0.8645\n",
      "15                    Belgium  0.9285\n",
      "22          Brunei Darussalam  0.8290\n",
      "29                     Canada  0.9280\n",
      "32                      Chile  0.8500\n",
      "37                    Croatia  0.8525\n",
      "39                     Cyprus  0.8860\n",
      "40                    Czechia  0.8910\n",
      "41                    Denmark  0.9425\n",
      "50                    Estonia  0.8850\n",
      "53                    Finland  0.9325\n",
      "54                     France  0.8975\n",
      "57                    Germany  0.9430\n",
      "59                     Greece  0.8805\n",
      "67                    Hungary  0.8445\n",
      "68                    Iceland  0.9530\n",
      "72                    Ireland  0.9315\n",
      "73                     Israel  0.9040\n",
      "74                      Italy  0.8875\n",
      "77                      Japan  0.9150\n",
      "82                     Kuwait  0.8305\n",
      "84                     Latvia  0.8605\n",
      "89              Liechtenstein  0.9270\n",
      "90                  Lithuania  0.8725\n",
      "91                 Luxembourg  0.9215\n",
      "97                      Malta  0.8915\n",
      "103                Montenegro  0.8295\n",
      "110               Netherlands  0.9345\n",
      "111               New Zealand  0.9350\n",
      "116                    Norway  0.9575\n",
      "125                    Poland  0.8730\n",
      "126                  Portugal  0.8540\n",
      "127                     Qatar  0.8575\n",
      "132                San Marino  0.8675\n",
      "134              Saudi Arabia  0.8475\n",
      "139                 Singapore  0.9375\n",
      "140                  Slovenia  0.9095\n",
      "146                     Spain  0.8940\n",
      "151                    Sweden  0.9400\n",
      "152               Switzerland  0.9545\n",
      "165      United Arab Emirates  0.8820\n",
      "166            United Kingdom  0.9250\n",
      "167  United States of America  0.9235\n",
      "\n",
      "Countries in Cluster 2 (Low income):\n",
      "                 Country name     hdi\n",
      "0                 Afghanistan  0.4795\n",
      "17                      Benin  0.5045\n",
      "24               Burkina Faso  0.4270\n",
      "25                    Burundi  0.4195\n",
      "30   Central African Republic  0.3760\n",
      "31                       Chad  0.3905\n",
      "42                   Djibouti  0.4865\n",
      "49                    Eritrea  0.4795\n",
      "51                   Ethiopia  0.4685\n",
      "62                     Guinea  0.4650\n",
      "63              Guinea-Bissau  0.4775\n",
      "75                Ivory Coast  0.5060\n",
      "86                    Lesotho  0.5195\n",
      "87                    Liberia  0.4795\n",
      "92                 Madagascar  0.4955\n",
      "93                     Malawi  0.5035\n",
      "96                       Mali  0.4095\n",
      "99                 Mauritania  0.5360\n",
      "105                Mozambique  0.4490\n",
      "113                     Niger  0.3745\n",
      "114                   Nigeria  0.5270\n",
      "118                  Pakistan  0.5335\n",
      "130                    Rwanda  0.5190\n",
      "135                   Senegal  0.5105\n",
      "138              Sierra Leone  0.4475\n",
      "142                   Somalia  0.3800\n",
      "145               South Sudan  0.3805\n",
      "149                     Sudan  0.5160\n",
      "157                      Togo  0.5185\n",
      "163                    Uganda  0.5325\n",
      "173                     Yemen  0.4310\n",
      "\n",
      "Countries in Cluster 3 (Upper-middle income):\n",
      "            Country name     hdi\n",
      "1                Albania  0.7940\n",
      "2                Algeria  0.7370\n",
      "5    Antigua and Barbuda  0.8195\n",
      "7                Armenia  0.7710\n",
      "10            Azerbaijan  0.7500\n",
      "..                   ...     ...\n",
      "164              Ukraine  0.7710\n",
      "168              Uruguay  0.8125\n",
      "169           Uzbekistan  0.7115\n",
      "171              Vietnam  0.7040\n",
      "172                World  0.7300\n",
      "\n",
      "[63 rows x 2 columns]\n"
     ]
    }
   ],
   "source": [
    "# Group countries by their cluster assignment\n",
    "for cluster in range(4):  # Assuming 4 clusters\n",
    "    print(f\"\\nCountries in Cluster {cluster} ({cluster_labels_sorted[cluster]}):\")\n",
    "    print(df_grouped[df_grouped['cluster'] == cluster][['Country name', 'hdi']])\n"
   ]
  },
  {
   "cell_type": "code",
   "execution_count": null,
   "id": "ab8b65b4-89cf-4846-b996-b3c8aef7e8ab",
   "metadata": {},
   "outputs": [],
   "source": []
  }
 ],
 "metadata": {
  "kernelspec": {
   "display_name": "Python 3 (ipykernel)",
   "language": "python",
   "name": "python3"
  },
  "language_info": {
   "codemirror_mode": {
    "name": "ipython",
    "version": 3
   },
   "file_extension": ".py",
   "mimetype": "text/x-python",
   "name": "python",
   "nbconvert_exporter": "python",
   "pygments_lexer": "ipython3",
   "version": "3.11.7"
  }
 },
 "nbformat": 4,
 "nbformat_minor": 5
}
