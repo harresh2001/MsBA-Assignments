{
 "cells": [
  {
   "cell_type": "code",
   "execution_count": 1,
   "id": "7c4b7ca0-2ff1-4e83-9f83-0cf5d3081025",
   "metadata": {},
   "outputs": [],
   "source": [
    "import pandas as pd\n",
    "import numpy as np"
   ]
  },
  {
   "cell_type": "code",
   "execution_count": 2,
   "id": "d9bd6a91-c0b8-4e89-8dae-701c3f576bbf",
   "metadata": {},
   "outputs": [],
   "source": [
    "df = pd.read_csv(\"C:/Users/yvonn/OneDrive/Desktop/SUNWAY/202409-S4/Business Intelligence/Assignment/SIandHappiness.csv\")"
   ]
  },
  {
   "cell_type": "code",
   "execution_count": 3,
   "id": "3f55470c-a855-4012-a6ed-6332d76c9405",
   "metadata": {},
   "outputs": [
    {
     "data": {
      "text/html": [
       "<div>\n",
       "<style scoped>\n",
       "    .dataframe tbody tr th:only-of-type {\n",
       "        vertical-align: middle;\n",
       "    }\n",
       "\n",
       "    .dataframe tbody tr th {\n",
       "        vertical-align: top;\n",
       "    }\n",
       "\n",
       "    .dataframe thead th {\n",
       "        text-align: right;\n",
       "    }\n",
       "</style>\n",
       "<table border=\"1\" class=\"dataframe\">\n",
       "  <thead>\n",
       "    <tr style=\"text-align: right;\">\n",
       "      <th></th>\n",
       "      <th>crossid</th>\n",
       "      <th>Country name</th>\n",
       "      <th>year</th>\n",
       "      <th>Nutrition &amp; Basic Medical Care</th>\n",
       "      <th>Water &amp; Sanitation</th>\n",
       "      <th>Shelter</th>\n",
       "      <th>Personal Safety</th>\n",
       "      <th>Access to Basic Knowledge</th>\n",
       "      <th>Access to Information &amp; Communications</th>\n",
       "      <th>Health &amp; Wellness</th>\n",
       "      <th>Environmental Quality</th>\n",
       "      <th>Personal Rights</th>\n",
       "      <th>Personal Freedom &amp; Choice</th>\n",
       "      <th>Inclusiveness</th>\n",
       "      <th>Access to Advanced Education</th>\n",
       "      <th>Life Ladder</th>\n",
       "    </tr>\n",
       "  </thead>\n",
       "  <tbody>\n",
       "    <tr>\n",
       "      <th>0</th>\n",
       "      <td>Afghanistan_2011</td>\n",
       "      <td>Afghanistan</td>\n",
       "      <td>2011</td>\n",
       "      <td>50.349998</td>\n",
       "      <td>49.610001</td>\n",
       "      <td>29.059999</td>\n",
       "      <td>33.910000</td>\n",
       "      <td>27.670000</td>\n",
       "      <td>24.850000</td>\n",
       "      <td>18.209999</td>\n",
       "      <td>31.500000</td>\n",
       "      <td>44.389999</td>\n",
       "      <td>30.150000</td>\n",
       "      <td>30.020000</td>\n",
       "      <td>21.719999</td>\n",
       "      <td>3.832</td>\n",
       "    </tr>\n",
       "    <tr>\n",
       "      <th>1</th>\n",
       "      <td>Afghanistan_2012</td>\n",
       "      <td>Afghanistan</td>\n",
       "      <td>2012</td>\n",
       "      <td>52.220001</td>\n",
       "      <td>51.340000</td>\n",
       "      <td>30.410000</td>\n",
       "      <td>33.450001</td>\n",
       "      <td>27.740000</td>\n",
       "      <td>24.340000</td>\n",
       "      <td>20.209999</td>\n",
       "      <td>31.299999</td>\n",
       "      <td>44.389999</td>\n",
       "      <td>30.540001</td>\n",
       "      <td>29.709999</td>\n",
       "      <td>22.230000</td>\n",
       "      <td>3.783</td>\n",
       "    </tr>\n",
       "    <tr>\n",
       "      <th>2</th>\n",
       "      <td>Afghanistan_2013</td>\n",
       "      <td>Afghanistan</td>\n",
       "      <td>2013</td>\n",
       "      <td>53.759998</td>\n",
       "      <td>54.209999</td>\n",
       "      <td>32.810001</td>\n",
       "      <td>34.410000</td>\n",
       "      <td>27.860001</td>\n",
       "      <td>30.090000</td>\n",
       "      <td>21.900000</td>\n",
       "      <td>31.080000</td>\n",
       "      <td>44.410000</td>\n",
       "      <td>30.750000</td>\n",
       "      <td>28.480000</td>\n",
       "      <td>22.379999</td>\n",
       "      <td>3.572</td>\n",
       "    </tr>\n",
       "    <tr>\n",
       "      <th>3</th>\n",
       "      <td>Afghanistan_2014</td>\n",
       "      <td>Afghanistan</td>\n",
       "      <td>2014</td>\n",
       "      <td>54.759998</td>\n",
       "      <td>56.410000</td>\n",
       "      <td>42.740002</td>\n",
       "      <td>34.840000</td>\n",
       "      <td>27.660000</td>\n",
       "      <td>31.219999</td>\n",
       "      <td>23.090000</td>\n",
       "      <td>30.170000</td>\n",
       "      <td>46.130001</td>\n",
       "      <td>31.320000</td>\n",
       "      <td>27.830000</td>\n",
       "      <td>21.950001</td>\n",
       "      <td>3.131</td>\n",
       "    </tr>\n",
       "    <tr>\n",
       "      <th>4</th>\n",
       "      <td>Afghanistan_2015</td>\n",
       "      <td>Afghanistan</td>\n",
       "      <td>2015</td>\n",
       "      <td>55.009998</td>\n",
       "      <td>56.950001</td>\n",
       "      <td>45.740002</td>\n",
       "      <td>36.450001</td>\n",
       "      <td>28.590000</td>\n",
       "      <td>32.130001</td>\n",
       "      <td>23.129999</td>\n",
       "      <td>30.020000</td>\n",
       "      <td>46.180000</td>\n",
       "      <td>32.779999</td>\n",
       "      <td>28.730000</td>\n",
       "      <td>23.280001</td>\n",
       "      <td>3.983</td>\n",
       "    </tr>\n",
       "  </tbody>\n",
       "</table>\n",
       "</div>"
      ],
      "text/plain": [
       "            crossid Country name  year  Nutrition & Basic Medical Care  \\\n",
       "0  Afghanistan_2011  Afghanistan  2011                       50.349998   \n",
       "1  Afghanistan_2012  Afghanistan  2012                       52.220001   \n",
       "2  Afghanistan_2013  Afghanistan  2013                       53.759998   \n",
       "3  Afghanistan_2014  Afghanistan  2014                       54.759998   \n",
       "4  Afghanistan_2015  Afghanistan  2015                       55.009998   \n",
       "\n",
       "   Water & Sanitation    Shelter  Personal Safety  Access to Basic Knowledge  \\\n",
       "0           49.610001  29.059999        33.910000                  27.670000   \n",
       "1           51.340000  30.410000        33.450001                  27.740000   \n",
       "2           54.209999  32.810001        34.410000                  27.860001   \n",
       "3           56.410000  42.740002        34.840000                  27.660000   \n",
       "4           56.950001  45.740002        36.450001                  28.590000   \n",
       "\n",
       "   Access to Information & Communications  Health & Wellness  \\\n",
       "0                               24.850000          18.209999   \n",
       "1                               24.340000          20.209999   \n",
       "2                               30.090000          21.900000   \n",
       "3                               31.219999          23.090000   \n",
       "4                               32.130001          23.129999   \n",
       "\n",
       "   Environmental Quality  Personal Rights  Personal Freedom & Choice  \\\n",
       "0              31.500000        44.389999                  30.150000   \n",
       "1              31.299999        44.389999                  30.540001   \n",
       "2              31.080000        44.410000                  30.750000   \n",
       "3              30.170000        46.130001                  31.320000   \n",
       "4              30.020000        46.180000                  32.779999   \n",
       "\n",
       "   Inclusiveness  Access to Advanced Education  Life Ladder  \n",
       "0      30.020000                     21.719999        3.832  \n",
       "1      29.709999                     22.230000        3.783  \n",
       "2      28.480000                     22.379999        3.572  \n",
       "3      27.830000                     21.950001        3.131  \n",
       "4      28.730000                     23.280001        3.983  "
      ]
     },
     "execution_count": 3,
     "metadata": {},
     "output_type": "execute_result"
    }
   ],
   "source": [
    "df.head()"
   ]
  },
  {
   "cell_type": "code",
   "execution_count": 4,
   "id": "e03a2781-3cac-4bc7-a1b7-f4389d675a24",
   "metadata": {},
   "outputs": [
    {
     "data": {
      "text/plain": [
       "230"
      ]
     },
     "execution_count": 4,
     "metadata": {},
     "output_type": "execute_result"
    }
   ],
   "source": [
    "unique_countries = df['Country name'].unique()\n",
    "len(unique_countries)"
   ]
  },
  {
   "cell_type": "code",
   "execution_count": 5,
   "id": "e9c52118-e438-44cd-99bc-e6890154d518",
   "metadata": {},
   "outputs": [],
   "source": [
    "# Grouping by 'Country name' and calculating the median of 'Life Ladder' for each country\n",
    "median_life_ladder_by_country = df.groupby('Country name')['Life Ladder'].median()\n",
    "\n",
    "# Function to fill missing values with the median, but only if there are non-null values in the group\n",
    "def conditional_fill(x):\n",
    "    if x.notna().any():  # Check if there are any non-null values in the group\n",
    "        return x.fillna(x.median())  # Fill missing values with the median\n",
    "    return x  # If all values are NaN, return the series unchanged\n",
    "\n",
    "# Applying the conditional imputation\n",
    "df['Life Ladder'] = df.groupby('Country name')['Life Ladder'].transform(conditional_fill)"
   ]
  },
  {
   "cell_type": "code",
   "execution_count": 6,
   "id": "7894515e-5e84-4764-b6f8-578cb42399e4",
   "metadata": {},
   "outputs": [
    {
     "name": "stdout",
     "output_type": "stream",
     "text": [
      "['American Samoa', 'Andorra', 'Antigua and Barbuda', 'Aruba', 'Bahamas', 'Barbados', 'Bermuda', 'British Virgin Islands', 'Brunei Darussalam', 'Cabo Verde', 'Cape Verde', 'Cayman Islands', 'Channel Islands', \"Cote d'Ivoire\", 'Cuba', 'Curacao', 'Dominica', 'East Asia and Pacific', 'Equatorial Guinea', 'Eritrea', 'Eurasia', 'Europe and North America', 'Faroe Islands', 'Fiji', 'French Polynesia', 'Gibraltar', 'Greenland', 'Grenada', 'Guam', 'Guinea-Bissau', 'Guyana', 'Isle of Man', 'Kiribati', 'Latin America and the Caribbean', 'Liechtenstein', 'Macau', 'Marshall Islands', 'Micronesia, Fed. Sts.', 'Middle East and North Africa', 'Monaco', 'Nauru', 'New Caledonia', 'North Korea', 'Northern Mariana Islands', 'Palau', 'Papua New Guinea', 'Puerto Rico', 'Samoa', 'San Marino', 'Sao Tome and Principe', 'Seychelles', 'Sint Maarten (Dutch part)', 'Solomon Islands', 'South Asia', 'St. Kitts and Nevis', 'St. Lucia', 'St. Martin (French part)', 'St. Vincent and the Grenadines', 'Sub-Saharan Africa', 'Swaziland', 'Timor-Leste', 'Tonga', 'Turkiye', 'Turks and Caicos Islands', 'Tuvalu', 'Vanuatu', 'Virgin Islands (U.S.)', 'West Bank and Gaza', 'World']\n"
     ]
    }
   ],
   "source": [
    "# Filter the data to include only rows from 2011 to 2022\n",
    "df_filtered = df[df['year'].between(2011, 2022)]\n",
    "\n",
    "# Identify countries where 'Life Ladder' is missing for all years between 2011 and 2022\n",
    "countries_all_missing = df_filtered.groupby('Country name')['Life Ladder'].apply(lambda x: x.isna().all())\n",
    "\n",
    "# Get the list of countries where all values are missing\n",
    "countries_to_remove = countries_all_missing[countries_all_missing].index.tolist()\n",
    "print(countries_to_remove)\n"
   ]
  },
  {
   "cell_type": "code",
   "execution_count": 7,
   "id": "f0cad7b6-25cd-44dd-808b-0c1239cd7a9b",
   "metadata": {},
   "outputs": [
    {
     "name": "stdout",
     "output_type": "stream",
     "text": [
      "Countries removed due to all missing values in 'Life Ladder' from 2011 to 2022:\n",
      "Total number of countries removed: 69\n",
      "Total number of countries left in the dataset: 161\n"
     ]
    }
   ],
   "source": [
    "# Remove these countries from the original dataframe\n",
    "df_cleaned = df_filtered[~df_filtered['Country name'].isin(countries_to_remove)]\n",
    "\n",
    "# Print the countries that have been removed and their count\n",
    "print(\"Countries removed due to all missing values in 'Life Ladder' from 2011 to 2022:\")\n",
    "print(f\"Total number of countries removed: {len(countries_to_remove)}\")\n",
    "\n",
    "# Print the total number of countries left in the dataset\n",
    "unique_countries = set(df_cleaned['Country name'].unique())  # Convert to set\n",
    "countries_to_remove_set = set(countries_to_remove)  # Convert to set\n",
    "left_countries = unique_countries - countries_to_remove_set  # Set subtraction to find remaining countries\n",
    "\n",
    "print(f\"Total number of countries left in the dataset: {len(left_countries)}\")"
   ]
  },
  {
   "cell_type": "code",
   "execution_count": 8,
   "id": "85e35c54-93fc-4fea-b29e-b1ff2ab071bd",
   "metadata": {},
   "outputs": [
    {
     "name": "stdout",
     "output_type": "stream",
     "text": [
      "Countries removed due to continuous missing values in all independent variable columns (2011-2022):\n",
      "{'Taiwan Province of China', 'Russian Federation', 'Syria', 'Congo (Kinshasa)', 'Iran', 'Vietnam', 'Hong Kong S.A.R. of China', 'North Macedonia', 'Kyrgyz Republic', 'Slovakia', 'Lao PDR', 'South Korea', 'Congo (Brazzaville)'}\n",
      "Total number of countries removed in this step: 13\n"
     ]
    }
   ],
   "source": [
    "# List of independent variable columns\n",
    "independent_columns = ['Nutrition & Basic Medical Care', 'Water & Sanitation', 'Shelter', \n",
    "                       'Personal Safety', 'Access to Basic Knowledge', 'Access to Information & Communications',\n",
    "                       'Health & Wellness', 'Environmental Quality', 'Personal Rights', 'Personal Freedom & Choice', \n",
    "                       'Inclusiveness', 'Access to Advanced Education']\n",
    "\n",
    "# Filter the dataframe for the years 2011 to 2022\n",
    "df_cleaned_years = df_cleaned[df_cleaned['year'].between(2011, 2022)]\n",
    "\n",
    "# Grouping by 'Country name' and checking if each group has continuous missing values in all independent columns\n",
    "def check_country(group):\n",
    "    # Check if the group (country) has continuous missing values in each independent variable across the years 2011-2022\n",
    "    continuous_missing = group[independent_columns].isna().all(axis=1).all()  # All rows must be NaN\n",
    "    return not continuous_missing  # We want to keep the country if it doesn't have continuous NaN values\n",
    "\n",
    "# Filter out countries that do not meet the condition\n",
    "countries_to_keep = df_cleaned_years.groupby('Country name').filter(check_country)\n",
    "\n",
    "# Identify the countries that were removed by this filtering step\n",
    "removed_countries = set(df_cleaned['Country name']) - set(countries_to_keep['Country name'])\n",
    "\n",
    "# Print the countries that have been removed and the count\n",
    "print(\"Countries removed due to continuous missing values in all independent variable columns (2011-2022):\")\n",
    "print(removed_countries)\n",
    "print(f\"Total number of countries removed in this step: {len(removed_countries)}\")\n",
    "\n",
    "# df is now filtered to keep only countries that do not have continuous missing values in all independent variable columns\n",
    "df_saved = df_cleaned_years[df_cleaned_years['Country name'].isin(countries_to_keep['Country name'])].copy()\n"
   ]
  },
  {
   "cell_type": "code",
   "execution_count": 9,
   "id": "e12a6c79-6a0c-45bf-bd93-28e41246fb1a",
   "metadata": {},
   "outputs": [
    {
     "name": "stdout",
     "output_type": "stream",
     "text": [
      "Total number of unique countries left in the dataset: 148\n"
     ]
    }
   ],
   "source": [
    "# Get unique countries from the filtered dataset\n",
    "unique_countries_left = df_saved['Country name'].unique()\n",
    "\n",
    "# Print the total number of unique countries left\n",
    "print(f\"Total number of unique countries left in the dataset: {len(unique_countries_left)}\")\n"
   ]
  },
  {
   "cell_type": "code",
   "execution_count": null,
   "id": "1b8c770b-d8c9-49c4-a250-9f4ecfe83a55",
   "metadata": {},
   "outputs": [],
   "source": []
  },
  {
   "cell_type": "code",
   "execution_count": 10,
   "id": "e3d29982-6e61-4190-bc99-23eb12798370",
   "metadata": {},
   "outputs": [
    {
     "name": "stdout",
     "output_type": "stream",
     "text": [
      "DataFrame successfully exported to SIandHappinessV2.csv\n"
     ]
    }
   ],
   "source": [
    "# Export the DataFrame to a CSV file\n",
    "csv_file_path = 'SIandHappinessV2.csv'\n",
    "df_saved.to_csv(csv_file_path, index=False)\n",
    "\n",
    "print(f'DataFrame successfully exported to {csv_file_path}')"
   ]
  },
  {
   "cell_type": "code",
   "execution_count": null,
   "id": "38f4ff5f-ff20-4fa2-94ae-9a150ac5df45",
   "metadata": {},
   "outputs": [],
   "source": []
  }
 ],
 "metadata": {
  "kernelspec": {
   "display_name": "Python 3 (ipykernel)",
   "language": "python",
   "name": "python3"
  },
  "language_info": {
   "codemirror_mode": {
    "name": "ipython",
    "version": 3
   },
   "file_extension": ".py",
   "mimetype": "text/x-python",
   "name": "python",
   "nbconvert_exporter": "python",
   "pygments_lexer": "ipython3",
   "version": "3.11.7"
  }
 },
 "nbformat": 4,
 "nbformat_minor": 5
}
